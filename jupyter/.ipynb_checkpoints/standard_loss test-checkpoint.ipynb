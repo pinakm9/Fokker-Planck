{
 "cells": [
  {
   "cell_type": "code",
   "execution_count": 1,
   "metadata": {},
   "outputs": [],
   "source": [
    "# add modules to Python's search path\n",
    "import os, sys\n",
    "from pathlib import Path\n",
    "nb_path = Path(os.path.abspath(''))\n",
    "sys.path.insert(0, str(nb_path.parent) + r'\\python')"
   ]
  },
  {
   "cell_type": "code",
   "execution_count": 2,
   "metadata": {},
   "outputs": [],
   "source": [
    "# import modules\n",
    "import tensorflow as tf\n",
    "import numpy as np\n",
    "from modules import nnplot as nnp\n",
    "from modules import integrate as quad\n",
    "from modules import lstm"
   ]
  },
  {
   "cell_type": "code",
   "execution_count": null,
   "metadata": {},
   "outputs": [],
   "source": [
    "class Solver(tf.keras.models.Model):\n",
    "    def __init__(num_nodes=10, num_layers=3, name='Solver', dtype=tf.float32):\n",
    "        super().__init__(name=name, dtype=dtype)\n",
    "        self.lstm = lstm.LSTMForget(num_nodes=num_nodes, num_layers)\n",
    "    \n",
    "    def diff_op(t, r):\n",
    "        r2 = r*r\n",
    "        z = 4.0*(r2 - 1.0)\n",
    "        #t = t[0]* tf.ones_like(r)\n",
    "        with tf.GradientTape() as outer_r:\n",
    "            outer_r.watch(r)\n",
    "            with tf.GradientTape() as inner:\n",
    "                inner.watch([t, r])\n",
    "                f_ = self.lstm(t, r)\n",
    "            grad_f = inner.gradient(f_, [t, r])\n",
    "            f_t = grad_f[0]\n",
    "            f_r = grad_f[1]\n",
    "        f_rr = outer_r.gradient(f_r, r)\n",
    "        b = f_r\n",
    "        a = (D + z*r2) * b\n",
    "        c = 4.0*r*(z + 2.0)\n",
    "        eqn = - r*f_t + a - c + D * r * (f_rr - b**2)\n",
    "        return tf.reduce_mean(eqn**2)\n",
    "    \n",
    "    def bdry_cond(t):\n",
    "        r = R*tf.ones_like(t)\n",
    "        with tf.GradientTape() as tape:\n",
    "            tape.watch(r)\n",
    "            p = tf.exp(-f(t, r))\n",
    "        dp_dr = tape.gradient(p, r)\n",
    "        expr = 4.0*R*(R**2-1.0)*p + D*R*dp_dr\n",
    "        return tf.reduce_mean(expr**2)\n",
    "    \n",
    "    def \n"
   ]
  }
 ],
 "metadata": {
  "kernelspec": {
   "display_name": "Python 3",
   "language": "python",
   "name": "python3"
  },
  "language_info": {
   "codemirror_mode": {
    "name": "ipython",
    "version": 3
   },
   "file_extension": ".py",
   "mimetype": "text/x-python",
   "name": "python",
   "nbconvert_exporter": "python",
   "pygments_lexer": "ipython3",
   "version": "3.7.4"
  }
 },
 "nbformat": 4,
 "nbformat_minor": 4
}
